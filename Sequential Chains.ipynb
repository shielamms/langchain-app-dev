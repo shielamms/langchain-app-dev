{
 "cells": [
  {
   "cell_type": "markdown",
   "id": "2b1d3e14",
   "metadata": {},
   "source": [
    "# Sequential Chains"
   ]
  },
  {
   "cell_type": "markdown",
   "id": "2de015a9",
   "metadata": {},
   "source": [
    "### Read sample data"
   ]
  },
  {
   "cell_type": "code",
   "execution_count": 4,
   "id": "e1706202",
   "metadata": {},
   "outputs": [],
   "source": [
    "import pandas as pd"
   ]
  },
  {
   "cell_type": "code",
   "execution_count": 5,
   "id": "33b94794",
   "metadata": {},
   "outputs": [],
   "source": [
    "reviews = pd.read_csv('data/reviews.csv')"
   ]
  },
  {
   "cell_type": "code",
   "execution_count": 32,
   "id": "538d27eb",
   "metadata": {},
   "outputs": [
    {
     "data": {
      "text/html": [
       "<div>\n",
       "<style scoped>\n",
       "    .dataframe tbody tr th:only-of-type {\n",
       "        vertical-align: middle;\n",
       "    }\n",
       "\n",
       "    .dataframe tbody tr th {\n",
       "        vertical-align: top;\n",
       "    }\n",
       "\n",
       "    .dataframe thead th {\n",
       "        text-align: right;\n",
       "    }\n",
       "</style>\n",
       "<table border=\"1\" class=\"dataframe\">\n",
       "  <thead>\n",
       "    <tr style=\"text-align: right;\">\n",
       "      <th></th>\n",
       "      <th>Product</th>\n",
       "      <th>Review</th>\n",
       "    </tr>\n",
       "  </thead>\n",
       "  <tbody>\n",
       "    <tr>\n",
       "      <th>0</th>\n",
       "      <td>Queen Size Sheet Set</td>\n",
       "      <td>I ordered a king size set. My only criticism w...</td>\n",
       "    </tr>\n",
       "    <tr>\n",
       "      <th>1</th>\n",
       "      <td>Waterproof Phone Pouch</td>\n",
       "      <td>I loved the waterproof sac, although the openi...</td>\n",
       "    </tr>\n",
       "    <tr>\n",
       "      <th>2</th>\n",
       "      <td>Luxury Air Mattress</td>\n",
       "      <td>This mattress had a small hole in the top of i...</td>\n",
       "    </tr>\n",
       "    <tr>\n",
       "      <th>3</th>\n",
       "      <td>Pillows Insert</td>\n",
       "      <td>This is the best throw pillow fillers on Amazo...</td>\n",
       "    </tr>\n",
       "    <tr>\n",
       "      <th>4</th>\n",
       "      <td>Milk Frother Handheld\\n</td>\n",
       "      <td>I loved this product. But they only seem to l...</td>\n",
       "    </tr>\n",
       "    <tr>\n",
       "      <th>5</th>\n",
       "      <td>L'Or Espresso Café \\n</td>\n",
       "      <td>Je trouve le goût médiocre. La mousse ne tient...</td>\n",
       "    </tr>\n",
       "    <tr>\n",
       "      <th>6</th>\n",
       "      <td>Hervidor de Agua Eléctrico</td>\n",
       "      <td>Está lu bonita calienta muy rápido, es muy fun...</td>\n",
       "    </tr>\n",
       "  </tbody>\n",
       "</table>\n",
       "</div>"
      ],
      "text/plain": [
       "                      Product  \\\n",
       "0        Queen Size Sheet Set   \n",
       "1      Waterproof Phone Pouch   \n",
       "2         Luxury Air Mattress   \n",
       "3              Pillows Insert   \n",
       "4     Milk Frother Handheld\\n   \n",
       "5       L'Or Espresso Café \\n   \n",
       "6  Hervidor de Agua Eléctrico   \n",
       "\n",
       "                                              Review  \n",
       "0  I ordered a king size set. My only criticism w...  \n",
       "1  I loved the waterproof sac, although the openi...  \n",
       "2  This mattress had a small hole in the top of i...  \n",
       "3  This is the best throw pillow fillers on Amazo...  \n",
       "4   I loved this product. But they only seem to l...  \n",
       "5  Je trouve le goût médiocre. La mousse ne tient...  \n",
       "6  Está lu bonita calienta muy rápido, es muy fun...  "
      ]
     },
     "execution_count": 32,
     "metadata": {},
     "output_type": "execute_result"
    }
   ],
   "source": [
    "reviews.head(10)"
   ]
  },
  {
   "cell_type": "markdown",
   "id": "3da675e2",
   "metadata": {},
   "source": [
    "### Sequential chain"
   ]
  },
  {
   "cell_type": "code",
   "execution_count": 20,
   "id": "c44cb3da",
   "metadata": {},
   "outputs": [],
   "source": [
    "from langchain.chains import LLMChain, SequentialChain\n",
    "from langchain.chat_models import ChatOpenAI\n",
    "from langchain.prompts import ChatPromptTemplate"
   ]
  },
  {
   "cell_type": "code",
   "execution_count": 7,
   "id": "aea3efc7",
   "metadata": {},
   "outputs": [],
   "source": [
    "llm = ChatOpenAI(temperature=0.0)"
   ]
  },
  {
   "cell_type": "code",
   "execution_count": 34,
   "id": "9a0920a6",
   "metadata": {},
   "outputs": [],
   "source": [
    "prompt_1 = ChatPromptTemplate.from_template(\n",
    "    '''\n",
    "    Translate the following review to English:\n",
    "    \\n{review}\n",
    "    '''\n",
    ")\n",
    "chain_1 = LLMChain(llm=llm,\n",
    "                   prompt=prompt_1,\n",
    "                   output_key='review_english')"
   ]
  },
  {
   "cell_type": "code",
   "execution_count": 35,
   "id": "4f03d661",
   "metadata": {},
   "outputs": [],
   "source": [
    "prompt_2 = ChatPromptTemplate.from_template(\n",
    "    '''\n",
    "    Summarize the following review in one sentence:\n",
    "    \\n{review_english}\n",
    "    '''\n",
    ")\n",
    "chain_2 = LLMChain(llm=llm,\n",
    "                   prompt=prompt_2,\n",
    "                   output_key='summary')"
   ]
  },
  {
   "cell_type": "code",
   "execution_count": 36,
   "id": "ed10aecd",
   "metadata": {},
   "outputs": [],
   "source": [
    "prompt_3 = ChatPromptTemplate.from_template(\n",
    "    '''\n",
    "    What language is the following review in?\n",
    "    \\n{review}\n",
    "    '''\n",
    ")\n",
    "chain_3 = LLMChain(llm=llm,\n",
    "                   prompt=prompt_3,\n",
    "                   output_key='language')"
   ]
  },
  {
   "cell_type": "code",
   "execution_count": 37,
   "id": "5a3d2bc8",
   "metadata": {},
   "outputs": [],
   "source": [
    "prompt_4 = ChatPromptTemplate.from_template(\n",
    "    '''\n",
    "    Write a follow-up message to the following summary\n",
    "    in the specified language:\n",
    "    \\Summary: {summary}\n",
    "    \\nLanguage: {language}\n",
    "    '''\n",
    ")\n",
    "chain_4 = LLMChain(llm=llm,\n",
    "                   prompt=prompt_4,\n",
    "                   output_key='message')"
   ]
  },
  {
   "cell_type": "code",
   "execution_count": 44,
   "id": "e55fbc83",
   "metadata": {},
   "outputs": [],
   "source": [
    "prompt_5 = ChatPromptTemplate.from_template(\n",
    "    '''\n",
    "    Translate the follow-up message to English:\n",
    "    \\Message: {message}\n",
    "    '''\n",
    ")\n",
    "chain_5 = LLMChain(llm=llm,\n",
    "                   prompt=prompt_5,\n",
    "                   output_key='response_english')"
   ]
  },
  {
   "cell_type": "code",
   "execution_count": 45,
   "id": "63f43297",
   "metadata": {},
   "outputs": [],
   "source": [
    "seq_chain = SequentialChain(chains=[chain_1, chain_2, chain_3, chain_4, chain_5],\n",
    "                            input_variables=['review'],\n",
    "                            output_variables=['review_english', 'summary', 'language', 'message', 'response_english'])"
   ]
  },
  {
   "cell_type": "code",
   "execution_count": 46,
   "id": "e3ab9ff3",
   "metadata": {},
   "outputs": [
    {
     "data": {
      "text/plain": [
       "\"Je trouve le goût médiocre. La mousse ne tient pas, c'est bizarre. J'achète les mêmes dans le commerce et le goût est bien meilleur...\\nVieux lot ou contrefaçon !?\""
      ]
     },
     "execution_count": 46,
     "metadata": {},
     "output_type": "execute_result"
    }
   ],
   "source": [
    "reviews.Review[5]"
   ]
  },
  {
   "cell_type": "code",
   "execution_count": 47,
   "id": "bbe6d4be",
   "metadata": {},
   "outputs": [
    {
     "data": {
      "text/plain": [
       "{'review': \"Je trouve le goût médiocre. La mousse ne tient pas, c'est bizarre. J'achète les mêmes dans le commerce et le goût est bien meilleur...\\nVieux lot ou contrefaçon !?\",\n",
       " 'review_english': \"I find the taste mediocre. The foam doesn't hold, it's strange. I buy the same ones in stores and the taste is much better...\\nOld batch or counterfeit!?\",\n",
       " 'summary': 'The reviewer is disappointed with the taste and foam of the product, suspecting that it may be an old batch or counterfeit.',\n",
       " 'language': 'The following review is in French.',\n",
       " 'message': \"Cher(e) critique,\\n\\nNous avons bien pris en compte votre commentaire concernant notre produit. Nous sommes désolés d'apprendre que vous êtes déçu(e) par le goût et la mousse de celui-ci. Nous tenons à vous assurer que nous prenons vos préoccupations très au sérieux.\\n\\nNous comprenons votre inquiétude quant à la possibilité que le produit soit un lot ancien ou contrefait. Soyez assuré(e) que nous avons des procédures strictes en place pour garantir la qualité et l'authenticité de nos produits. Cependant, nous allons immédiatement enquêter sur votre cas spécifique pour vérifier s'il y a eu une erreur ou un problème avec ce lot en particulier.\\n\\nNous aimerions également vous offrir une solution pour remédier à votre déception. Nous vous invitons à nous contacter directement afin que nous puissions discuter de la meilleure façon de résoudre ce problème. Votre satisfaction est notre priorité absolue et nous souhaitons rectifier cette situation.\\n\\nEncore une fois, nous vous remercions d'avoir pris le temps de nous faire part de vos préoccupations. Nous espérons pouvoir rétablir votre confiance dans notre produit et vous offrir une expérience positive à l'avenir.\\n\\nCordialement,\\n\\nL'équipe du service client\",\n",
       " 'response_english': 'Dear critic,\\n\\nWe have taken note of your comment regarding our product. We are sorry to hear that you are disappointed with its taste and foam. We want to assure you that we take your concerns very seriously.\\n\\nWe understand your concern about the possibility of the product being an old or counterfeit batch. Rest assured that we have strict procedures in place to ensure the quality and authenticity of our products. However, we will immediately investigate your specific case to check if there was an error or issue with this particular batch.\\n\\nWe would also like to offer you a solution to address your disappointment. We invite you to contact us directly so that we can discuss the best way to resolve this issue. Your satisfaction is our top priority and we want to rectify this situation.\\n\\nOnce again, we thank you for taking the time to share your concerns with us. We hope to restore your trust in our product and provide you with a positive experience in the future.\\n\\nBest regards,\\n\\nCustomer Service Team'}"
      ]
     },
     "execution_count": 47,
     "metadata": {},
     "output_type": "execute_result"
    }
   ],
   "source": [
    "seq_chain(reviews.Review[5])"
   ]
  },
  {
   "cell_type": "code",
   "execution_count": null,
   "id": "0525cab9",
   "metadata": {},
   "outputs": [],
   "source": []
  }
 ],
 "metadata": {
  "kernelspec": {
   "display_name": "Python 3 (ipykernel)",
   "language": "python",
   "name": "python3"
  },
  "language_info": {
   "codemirror_mode": {
    "name": "ipython",
    "version": 3
   },
   "file_extension": ".py",
   "mimetype": "text/x-python",
   "name": "python",
   "nbconvert_exporter": "python",
   "pygments_lexer": "ipython3",
   "version": "3.10.10"
  }
 },
 "nbformat": 4,
 "nbformat_minor": 5
}
