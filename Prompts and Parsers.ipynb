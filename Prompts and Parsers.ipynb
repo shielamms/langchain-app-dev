{
 "cells": [
  {
   "cell_type": "markdown",
   "id": "937240d3",
   "metadata": {},
   "source": [
    "## The Back Story..."
   ]
  },
  {
   "cell_type": "markdown",
   "id": "f057f83c",
   "metadata": {},
   "source": [
    "Shakespeare ressurrected in the 21st century and needs to keep up with modern technology. On top of that, he has to find supplementary source of income since his playwrighting skills are no longer relevant in this day and age and in the midst of the cost of living crisis. He eventually found a job as a customer support specialist, but he still has difficulty understanding the modern English lingo. Equipped with some new tech skills he learned on the internet, Shakespeare now wants to explore Large Language Models to help him translate customer prompts in modern English into the English that he once knew..."
   ]
  },
  {
   "cell_type": "markdown",
   "id": "be160834",
   "metadata": {},
   "source": [
    "### A sample customer prompt"
   ]
  },
  {
   "cell_type": "code",
   "execution_count": 37,
   "id": "cd2299a5",
   "metadata": {},
   "outputs": [],
   "source": [
    "customer_prompt = '''\n",
    "Hey, I accidentally spilled oat milk on my toaster \\\n",
    "while making breakfast this morning. I unplugged it \\\n",
    "and waited for a few minutes before turning it back \\\n",
    "on, but now it's just making a weird buzzing noise \\\n",
    "and the indicator light doesn't switch on. Help me!\n",
    "'''"
   ]
  },
  {
   "cell_type": "code",
   "execution_count": 38,
   "id": "215815b5",
   "metadata": {},
   "outputs": [],
   "source": [
    "style = 'like the plays of Shakespeare'\n",
    "\n",
    "prompt = f'''Translate the text that is delimited by \\\n",
    "triple backticks into a style that is {style}.\n",
    "text: ```{customer_prompt}```\n",
    "'''"
   ]
  },
  {
   "cell_type": "markdown",
   "id": "725a9892",
   "metadata": {},
   "source": [
    "## Part 1: Direct API calls to OpenAI"
   ]
  },
  {
   "cell_type": "code",
   "execution_count": 36,
   "id": "1e520560",
   "metadata": {},
   "outputs": [],
   "source": [
    "import openai\n",
    "import os"
   ]
  },
  {
   "cell_type": "code",
   "execution_count": 2,
   "id": "06f03603",
   "metadata": {},
   "outputs": [],
   "source": [
    "openai.api_key = os.environ.get('OPENAI_API_KEY')"
   ]
  },
  {
   "cell_type": "code",
   "execution_count": 39,
   "id": "cb5c0691",
   "metadata": {},
   "outputs": [],
   "source": [
    "def chat_with_openai(prompt, model='gpt-3.5-turbo'):\n",
    "    message = {\n",
    "        'role': 'user',\n",
    "        'content': prompt,\n",
    "    }\n",
    "    # A lower temperature will make responses more deterministic\n",
    "    response = openai.ChatCompletion.create(model=model,\n",
    "                                            messages=[message],\n",
    "                                            temperature=0)\n",
    "    tokens = response['usage']['total_tokens']\n",
    "    response = response['choices'][0]['message']['content']\n",
    "    \n",
    "    return response, tokens"
   ]
  },
  {
   "cell_type": "code",
   "execution_count": 40,
   "id": "87dee253",
   "metadata": {},
   "outputs": [],
   "source": [
    "response, tokens_used = chat_with_openai(prompt)"
   ]
  },
  {
   "cell_type": "code",
   "execution_count": 41,
   "id": "24ad1d8e",
   "metadata": {},
   "outputs": [
    {
     "data": {
      "text/plain": [
       "\"Hark! 'Tis a tale of woe that I doth recount,\\nForsooth, this morn whilst breaking fast, I erred.\\nOat milk, by chance, did spill upon my toaster,\\nAn accident, yet dire consequences ensued.\\n\\nSwiftly, I did unplug the device with care,\\nAnd patiently, I waited for minutes three,\\nEre I dared to rekindle its electric flame.\\nAlas! A strange buzzing sound doth now persist,\\nAnd the light, once bright, doth refuse to shine.\\n\\nPray, I beseech thee, lend me thy aid!\\nForsooth, I am in need of thy wise counsel,\\nTo mend this toaster, plagued by misfortune.\""
      ]
     },
     "execution_count": 41,
     "metadata": {},
     "output_type": "execute_result"
    }
   ],
   "source": [
    "response"
   ]
  },
  {
   "cell_type": "code",
   "execution_count": 42,
   "id": "6bb51de7",
   "metadata": {},
   "outputs": [
    {
     "data": {
      "text/plain": [
       "235"
      ]
     },
     "execution_count": 42,
     "metadata": {},
     "output_type": "execute_result"
    }
   ],
   "source": [
    "tokens_used"
   ]
  },
  {
   "cell_type": "markdown",
   "id": "7e19f8f4",
   "metadata": {},
   "source": [
    "## Part 2: Using LangChain"
   ]
  },
  {
   "cell_type": "code",
   "execution_count": 53,
   "id": "bf5ccc8f",
   "metadata": {},
   "outputs": [],
   "source": [
    "from langchain.chat_models import ChatOpenAI\n",
    "from langchain.prompts import ChatPromptTemplate"
   ]
  },
  {
   "cell_type": "code",
   "execution_count": 43,
   "id": "f129c4de",
   "metadata": {},
   "outputs": [],
   "source": [
    "prompt_template = ChatPromptTemplate.from_template(prompt)"
   ]
  },
  {
   "cell_type": "code",
   "execution_count": 44,
   "id": "aa853f45",
   "metadata": {},
   "outputs": [
    {
     "data": {
      "text/plain": [
       "PromptTemplate(input_variables=[], output_parser=None, partial_variables={}, template=\"Translate the text that is delimited by triple backticks into a style that is like the plays of Shakespeare.\\ntext: ```\\nHey, I accidentally spilled oat milk on my toaster while making breakfast this morning. I unplugged it and waited for a few minutes before turning it back on, but now it's just making a weird buzzing noise and the indicator light doesn't switch on. Help me!\\n```\\n\", template_format='f-string', validate_template=True)"
      ]
     },
     "execution_count": 44,
     "metadata": {},
     "output_type": "execute_result"
    }
   ],
   "source": [
    "prompt_template.messages[0].prompt"
   ]
  },
  {
   "cell_type": "code",
   "execution_count": 50,
   "id": "2f6d918a",
   "metadata": {},
   "outputs": [],
   "source": [
    "chat_messages = prompt_template.format_messages(\n",
    "                        style=style,\n",
    "                        text=customer_prompt)"
   ]
  },
  {
   "cell_type": "code",
   "execution_count": 51,
   "id": "474baf28",
   "metadata": {},
   "outputs": [
    {
     "data": {
      "text/plain": [
       "HumanMessage(content=\"Translate the text that is delimited by triple backticks into a style that is like the plays of Shakespeare.\\ntext: ```\\nHey, I accidentally spilled oat milk on my toaster while making breakfast this morning. I unplugged it and waited for a few minutes before turning it back on, but now it's just making a weird buzzing noise and the indicator light doesn't switch on. Help me!\\n```\\n\", additional_kwargs={}, example=False)"
      ]
     },
     "execution_count": 51,
     "metadata": {},
     "output_type": "execute_result"
    }
   ],
   "source": [
    "chat_messages[0]"
   ]
  },
  {
   "cell_type": "code",
   "execution_count": 54,
   "id": "805dc7f2",
   "metadata": {},
   "outputs": [],
   "source": [
    "chat = ChatOpenAI(temperature=0.0)\n",
    "response = chat(chat_messages)"
   ]
  },
  {
   "cell_type": "code",
   "execution_count": 55,
   "id": "60ff7eba",
   "metadata": {},
   "outputs": [
    {
     "name": "stdout",
     "output_type": "stream",
     "text": [
      "Hark! 'Tis a tale of woe that I doth recount,\n",
      "Forsooth, this morn whilst breaking fast in haste,\n",
      "Mine hand didst falter, and oat milk didst spill,\n",
      "Upon mine toaster, causing great distress.\n",
      "\n",
      "Swiftly, I didst unplug the wretched device,\n",
      "And bide my time, a few minutes didst pass,\n",
      "Ere I dared to rekindle its fiery glow,\n",
      "Yet, alas! A strange buzzing doth it emit,\n",
      "And the light, once bright, doth refuse to shine.\n",
      "\n",
      "Oh, I beseech thee, lend me thine aid,\n",
      "Forsooth, what remedy canst thou proffer?\n",
      "Pray, help me mend this toaster's sorry state,\n",
      "That it may once again serve me with grace.\n"
     ]
    }
   ],
   "source": [
    "print(response.content)"
   ]
  },
  {
   "cell_type": "code",
   "execution_count": 56,
   "id": "4638597e",
   "metadata": {},
   "outputs": [
    {
     "data": {
      "text/plain": [
       "AIMessage(content=\"Hark! 'Tis a tale of woe that I doth recount,\\nForsooth, this morn whilst breaking fast in haste,\\nMine hand didst falter, and oat milk didst spill,\\nUpon mine toaster, causing great distress.\\n\\nSwiftly, I didst unplug the wretched device,\\nAnd bide my time, a few minutes didst pass,\\nEre I dared to rekindle its fiery glow,\\nYet, alas! A strange buzzing doth it emit,\\nAnd the light, once bright, doth refuse to shine.\\n\\nOh, I beseech thee, lend me thine aid,\\nForsooth, what remedy canst thou proffer?\\nPray, help me mend this toaster's sorry state,\\nThat it may once again serve me with grace.\", additional_kwargs={}, example=False)"
      ]
     },
     "execution_count": 56,
     "metadata": {},
     "output_type": "execute_result"
    }
   ],
   "source": [
    "response"
   ]
  },
  {
   "cell_type": "code",
   "execution_count": null,
   "id": "850494e2",
   "metadata": {},
   "outputs": [],
   "source": []
  }
 ],
 "metadata": {
  "kernelspec": {
   "display_name": "Python 3 (ipykernel)",
   "language": "python",
   "name": "python3"
  },
  "language_info": {
   "codemirror_mode": {
    "name": "ipython",
    "version": 3
   },
   "file_extension": ".py",
   "mimetype": "text/x-python",
   "name": "python",
   "nbconvert_exporter": "python",
   "pygments_lexer": "ipython3",
   "version": "3.10.10"
  }
 },
 "nbformat": 4,
 "nbformat_minor": 5
}
