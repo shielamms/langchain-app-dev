{
 "cells": [
  {
   "cell_type": "markdown",
   "id": "70d5acd5",
   "metadata": {},
   "source": [
    "## The Back Story..."
   ]
  },
  {
   "cell_type": "markdown",
   "id": "ed90b529",
   "metadata": {},
   "source": [
    "Shakespeare ressurrected in the 21st century and needs to keep up with modern technology. On top of that, he has to find supplementary source of income since his playwrighting skills are no longer relevant in this day and age and in the midst of the cost of living crisis. He eventually found a job as a customer support specialist, but he still has difficulty understanding the modern English lingo. Equipped with some new tech skills he learned on the internet, Shakespeare now wants to explore Large Language Models to help him translate customer prompts in modern English into the English that he once knew..."
   ]
  },
  {
   "cell_type": "markdown",
   "id": "28268428",
   "metadata": {},
   "source": [
    "### A sample customer prompt"
   ]
  },
  {
   "cell_type": "code",
   "execution_count": 37,
   "id": "cbd56e1c",
   "metadata": {},
   "outputs": [],
   "source": [
    "customer_prompt = '''\n",
    "Hey, I accidentally spilled oat milk on my toaster \\\n",
    "while making breakfast this morning. I unplugged it \\\n",
    "and waited for a few minutes before turning it back \\\n",
    "on, but now it's just making a weird buzzing noise \\\n",
    "and the indicator light doesn't switch on. Help me!\n",
    "'''"
   ]
  },
  {
   "cell_type": "markdown",
   "id": "d601e201",
   "metadata": {},
   "source": [
    "### Shakespeare's chat prompt"
   ]
  },
  {
   "cell_type": "code",
   "execution_count": 38,
   "id": "c21d4390",
   "metadata": {},
   "outputs": [],
   "source": [
    "style = 'like the plays of Shakespeare'\n",
    "\n",
    "prompt = f'''Translate the text that is delimited by \\\n",
    "triple backticks into a style that is {style}. \\\n",
    "text: ```{customer_prompt}```\n",
    "'''"
   ]
  },
  {
   "cell_type": "markdown",
   "id": "6f40d5c2",
   "metadata": {},
   "source": [
    "## Part 1: Direct API calls to OpenAI"
   ]
  },
  {
   "cell_type": "code",
   "execution_count": 36,
   "id": "1e520560",
   "metadata": {},
   "outputs": [],
   "source": [
    "import openai\n",
    "import os"
   ]
  },
  {
   "cell_type": "code",
   "execution_count": 2,
   "id": "06f03603",
   "metadata": {},
   "outputs": [],
   "source": [
    "openai.api_key = os.environ.get('OPENAI_API_KEY')"
   ]
  },
  {
   "cell_type": "code",
   "execution_count": 39,
   "id": "1bb3db2c",
   "metadata": {},
   "outputs": [],
   "source": [
    "def chat_with_openai(prompt, model='gpt-3.5-turbo'):\n",
    "    message = {\n",
    "        'role': 'user',\n",
    "        'content': prompt,\n",
    "    }\n",
    "    # A lower temperature will make responses more deterministic\n",
    "    response = openai.ChatCompletion.create(model=model,\n",
    "                                            messages=[message],\n",
    "                                            temperature=0)\n",
    "    tokens = response['usage']['total_tokens']\n",
    "    response = response['choices'][0]['message']['content']\n",
    "    \n",
    "    return response, tokens"
   ]
  },
  {
   "cell_type": "code",
   "execution_count": 40,
   "id": "75968b55",
   "metadata": {},
   "outputs": [],
   "source": [
    "response, tokens_used = chat_with_openai(prompt)"
   ]
  },
  {
   "cell_type": "code",
   "execution_count": 41,
   "id": "a1971313",
   "metadata": {},
   "outputs": [
    {
     "data": {
      "text/plain": [
       "\"Hark! 'Tis a tale of woe that I doth recount,\\nForsooth, this morn whilst breaking fast, I erred.\\nOat milk, by chance, did spill upon my toaster,\\nAn accident, yet dire consequences ensued.\\n\\nSwiftly, I did unplug the device with care,\\nAnd patiently, I waited for minutes three,\\nEre I dared to rekindle its electric flame.\\nAlas! A strange buzzing sound doth now persist,\\nAnd the light, once bright, doth refuse to shine.\\n\\nPray, I beseech thee, lend me thy aid!\\nForsooth, I am in need of thy wise counsel,\\nTo mend this toaster, plagued by misfortune.\""
      ]
     },
     "execution_count": 41,
     "metadata": {},
     "output_type": "execute_result"
    }
   ],
   "source": [
    "response"
   ]
  },
  {
   "cell_type": "code",
   "execution_count": 42,
   "id": "602e4227",
   "metadata": {},
   "outputs": [
    {
     "data": {
      "text/plain": [
       "235"
      ]
     },
     "execution_count": 42,
     "metadata": {},
     "output_type": "execute_result"
    }
   ],
   "source": [
    "tokens_used"
   ]
  },
  {
   "cell_type": "markdown",
   "id": "3a62710e",
   "metadata": {},
   "source": [
    "## Part 2: Using LangChain"
   ]
  },
  {
   "cell_type": "markdown",
   "id": "e2aa949b",
   "metadata": {},
   "source": [
    "LangChain gets your OpenAI API key in your `OPENAI_API_KEY` environment variable by default."
   ]
  },
  {
   "cell_type": "code",
   "execution_count": 53,
   "id": "927713b3",
   "metadata": {},
   "outputs": [],
   "source": [
    "from langchain.chat_models import ChatOpenAI\n",
    "from langchain.prompts import ChatPromptTemplate"
   ]
  },
  {
   "cell_type": "code",
   "execution_count": 43,
   "id": "09f5f3b9",
   "metadata": {},
   "outputs": [],
   "source": [
    "prompt_template = ChatPromptTemplate.from_template(prompt)"
   ]
  },
  {
   "cell_type": "code",
   "execution_count": 44,
   "id": "332e090e",
   "metadata": {},
   "outputs": [
    {
     "data": {
      "text/plain": [
       "PromptTemplate(input_variables=[], output_parser=None, partial_variables={}, template=\"Translate the text that is delimited by triple backticks into a style that is like the plays of Shakespeare.\\ntext: ```\\nHey, I accidentally spilled oat milk on my toaster while making breakfast this morning. I unplugged it and waited for a few minutes before turning it back on, but now it's just making a weird buzzing noise and the indicator light doesn't switch on. Help me!\\n```\\n\", template_format='f-string', validate_template=True)"
      ]
     },
     "execution_count": 44,
     "metadata": {},
     "output_type": "execute_result"
    }
   ],
   "source": [
    "prompt_template.messages[0].prompt"
   ]
  },
  {
   "cell_type": "code",
   "execution_count": 50,
   "id": "b48a611d",
   "metadata": {},
   "outputs": [],
   "source": [
    "chat_messages = prompt_template.format_messages(\n",
    "                        style=style,\n",
    "                        text=customer_prompt)"
   ]
  },
  {
   "cell_type": "code",
   "execution_count": 51,
   "id": "9648026e",
   "metadata": {},
   "outputs": [
    {
     "data": {
      "text/plain": [
       "HumanMessage(content=\"Translate the text that is delimited by triple backticks into a style that is like the plays of Shakespeare.\\ntext: ```\\nHey, I accidentally spilled oat milk on my toaster while making breakfast this morning. I unplugged it and waited for a few minutes before turning it back on, but now it's just making a weird buzzing noise and the indicator light doesn't switch on. Help me!\\n```\\n\", additional_kwargs={}, example=False)"
      ]
     },
     "execution_count": 51,
     "metadata": {},
     "output_type": "execute_result"
    }
   ],
   "source": [
    "chat_messages[0]"
   ]
  },
  {
   "cell_type": "code",
   "execution_count": 54,
   "id": "aa3b967e",
   "metadata": {},
   "outputs": [],
   "source": [
    "chat = ChatOpenAI(temperature=0.0)\n",
    "response = chat(chat_messages)"
   ]
  },
  {
   "cell_type": "code",
   "execution_count": 55,
   "id": "8e022584",
   "metadata": {},
   "outputs": [
    {
     "name": "stdout",
     "output_type": "stream",
     "text": [
      "Hark! 'Tis a tale of woe that I doth recount,\n",
      "Forsooth, this morn whilst breaking fast in haste,\n",
      "Mine hand didst falter, and oat milk didst spill,\n",
      "Upon mine toaster, causing great distress.\n",
      "\n",
      "Swiftly, I didst unplug the wretched device,\n",
      "And bide my time, a few minutes didst pass,\n",
      "Ere I dared to rekindle its fiery glow,\n",
      "Yet, alas! A strange buzzing doth it emit,\n",
      "And the light, once bright, doth refuse to shine.\n",
      "\n",
      "Oh, I beseech thee, lend me thine aid,\n",
      "Forsooth, what remedy canst thou proffer?\n",
      "Pray, help me mend this toaster's sorry state,\n",
      "That it may once again serve me with grace.\n"
     ]
    }
   ],
   "source": [
    "print(response.content)"
   ]
  },
  {
   "cell_type": "markdown",
   "id": "dd7fadf1",
   "metadata": {},
   "source": [
    "## Part 3: Using Output Parsers"
   ]
  },
  {
   "cell_type": "markdown",
   "id": "0dbfa92d",
   "metadata": {},
   "source": [
    "Shakespeare's productivity at work soared after successfully using LLMs to help him understand their customers' English messages. His supervisor quickly saw this as an opportunity to assign him more \"responsibility\" - he now wants Shakespeare to read customer reviews of their products and extract valuable information from them so that they can gather insights about customer satisfaction for particular products."
   ]
  },
  {
   "cell_type": "code",
   "execution_count": 73,
   "id": "9d0eca58",
   "metadata": {},
   "outputs": [],
   "source": [
    "from langchain.chat_models import ChatOpenAI\n",
    "from langchain.prompts import ChatPromptTemplate"
   ]
  },
  {
   "cell_type": "markdown",
   "id": "54849a36",
   "metadata": {},
   "source": [
    "### A sample customer review"
   ]
  },
  {
   "cell_type": "code",
   "execution_count": 61,
   "id": "b4d857cc",
   "metadata": {},
   "outputs": [],
   "source": [
    "customer_review = '''\n",
    "This leaf blower is pretty amazing.  It has four settings:\\\n",
    "candle blower, gentle breeze, windy city, and tornado. \\\n",
    "It arrived in two days, just in time for my wife's \\\n",
    "anniversary present. \\\n",
    "I think my wife liked it so much she was speechless. \\\n",
    "So far I've been the only one using it, and I've been \\\n",
    "using it every other morning to clear the leaves on our lawn. \\\n",
    "It's slightly more expensive than the other leaf blowers \\\n",
    "out there, but I think it's worth it for the extra features.\n",
    "'''"
   ]
  },
  {
   "cell_type": "markdown",
   "id": "f9127f09",
   "metadata": {},
   "source": [
    "### Shakespeare's chat prompt"
   ]
  },
  {
   "cell_type": "code",
   "execution_count": 122,
   "id": "2aee2fc4",
   "metadata": {},
   "outputs": [],
   "source": [
    "prompt = '''\n",
    "For the following text, extract the following information: \\\n",
    "\n",
    "is_happy: Was the customer happy with their purchase? \\\n",
    "Answer Yes if they were. Answer No if they were not. \\\n",
    "Answer \"Unknown\" if the information is not found. \\\n",
    "\n",
    "delivery_days: How many days did it take the product to arrive? \\\n",
    "Answer -1 if the information is not found. \\\n",
    "\n",
    "price_value: Extract any phrases about the value or price of \\\n",
    "the product, and output them as a list. \\\n",
    "\n",
    "damages: Extract any phrases about damages that the customer \\\n",
    "found in the product, and output them as a list. \\\n",
    "\n",
    "Format the output as JSON with the following keys:\n",
    "is_happy\n",
    "delivery_days\n",
    "price_value\n",
    "damages\n",
    "\n",
    "text: {text}\n",
    "'''"
   ]
  },
  {
   "cell_type": "markdown",
   "id": "ee51fec5",
   "metadata": {},
   "source": [
    "### Getting the raw response without an Output Parser"
   ]
  },
  {
   "cell_type": "code",
   "execution_count": 123,
   "id": "ed3c3f13",
   "metadata": {},
   "outputs": [
    {
     "name": "stdout",
     "output_type": "stream",
     "text": [
      "input_variables=['text'] output_parser=None partial_variables={} template='\\nFor the following text, extract the following information: \\nis_happy: Was the customer happy with their purchase? Answer Yes if they were. Answer No if they were not. Answer \"Unknown\" if the information is not found. \\ndelivery_days: How many days did it take the product to arrive? Answer -1 if the information is not found. \\nprice_value: Extract any phrases about the value or price of the product, and output them as a list. \\ndamages: Extract any phrases about damages that the customer found in the product, and output them as a list. \\nFormat the output as JSON with the following keys:\\nis_happy\\ndelivery_days\\nprice_value\\ndamages\\n\\ntext: {text}\\n' template_format='f-string' validate_template=True\n"
     ]
    }
   ],
   "source": [
    "prompt_template = ChatPromptTemplate.from_template(prompt)\n",
    "print(prompt_template.messages[0].prompt)"
   ]
  },
  {
   "cell_type": "code",
   "execution_count": 124,
   "id": "68f3605d",
   "metadata": {},
   "outputs": [],
   "source": [
    "chat_messages = prompt_template.format_messages(\n",
    "                        text=customer_review)"
   ]
  },
  {
   "cell_type": "code",
   "execution_count": 125,
   "id": "1d501e48",
   "metadata": {},
   "outputs": [
    {
     "data": {
      "text/plain": [
       "HumanMessage(content='\\nFor the following text, extract the following information: \\nis_happy: Was the customer happy with their purchase? Answer Yes if they were. Answer No if they were not. Answer \"Unknown\" if the information is not found. \\ndelivery_days: How many days did it take the product to arrive? Answer -1 if the information is not found. \\nprice_value: Extract any phrases about the value or price of the product, and output them as a list. \\ndamages: Extract any phrases about damages that the customer found in the product, and output them as a list. \\nFormat the output as JSON with the following keys:\\nis_happy\\ndelivery_days\\nprice_value\\ndamages\\n\\ntext: \\nThis leaf blower is pretty amazing.  It has four settings:candle blower, gentle breeze, windy city, and tornado. It arrived in two days, just in time for my wife\\'s anniversary present. I think my wife liked it so much she was speechless. So far I\\'ve been the only one using it, and I\\'ve been using it every other morning to clear the leaves on our lawn. It\\'s slightly more expensive than the other leaf blowers out there, but I think it\\'s worth it for the extra features.\\n\\n', additional_kwargs={}, example=False)"
      ]
     },
     "execution_count": 125,
     "metadata": {},
     "output_type": "execute_result"
    }
   ],
   "source": [
    "chat_messages[0]"
   ]
  },
  {
   "cell_type": "code",
   "execution_count": 126,
   "id": "e94f69f3",
   "metadata": {},
   "outputs": [],
   "source": [
    "chat = ChatOpenAI(temperature=0.0)\n",
    "response = chat(chat_messages)"
   ]
  },
  {
   "cell_type": "code",
   "execution_count": 127,
   "id": "8ede0c04",
   "metadata": {},
   "outputs": [
    {
     "name": "stdout",
     "output_type": "stream",
     "text": [
      "{\n",
      "  \"is_happy\": \"Yes\",\n",
      "  \"delivery_days\": 2,\n",
      "  \"price_value\": [\"slightly more expensive\", \"worth it for the extra features\"],\n",
      "  \"damages\": []\n",
      "}\n"
     ]
    }
   ],
   "source": [
    "print(response.content)"
   ]
  },
  {
   "cell_type": "markdown",
   "id": "0b503c8c",
   "metadata": {},
   "source": [
    "The API response looks like a json object, but when we print out the data type of the response content, it's actually a string. This makes it a bit difficult to parse the relevant data from the response."
   ]
  },
  {
   "cell_type": "code",
   "execution_count": 128,
   "id": "99ee7807",
   "metadata": {},
   "outputs": [
    {
     "name": "stdout",
     "output_type": "stream",
     "text": [
      "<class 'str'>\n"
     ]
    }
   ],
   "source": [
    "print(type(response.content))"
   ]
  },
  {
   "cell_type": "markdown",
   "id": "772f6787",
   "metadata": {},
   "source": [
    "### Using an Output Parser to format the response"
   ]
  },
  {
   "cell_type": "markdown",
   "id": "0b52d153",
   "metadata": {},
   "source": [
    "The output parser streamlines the process of parsing the necessary data from a chat response. This parser is useful when there are several outputs and we want to structure them properly for readability and future processing. It also allows us to specify the data types of each output."
   ]
  },
  {
   "cell_type": "code",
   "execution_count": 74,
   "id": "7625b08d",
   "metadata": {},
   "outputs": [],
   "source": [
    "from langchain.output_parsers import ResponseSchema, StructuredOutputParser"
   ]
  },
  {
   "cell_type": "code",
   "execution_count": 129,
   "id": "50c5434b",
   "metadata": {},
   "outputs": [],
   "source": [
    "is_happy = ResponseSchema(name='is_happy',\n",
    "                          description='''Was the customer happy with their purchase?\n",
    "                          Answer Yes if they were. Answer No if they were not.\n",
    "                          Answer \"Unknown\" if the information is not found.\n",
    "                          ''')\n",
    "delivery_days = ResponseSchema(name='delivery_days',\n",
    "                               description='''How many days did it take the product to arrive?\n",
    "                               Answer -1 if the information is not found.\n",
    "                               ''',\n",
    "                               type='int')\n",
    "price_value = ResponseSchema(name='price_value',\n",
    "                             description='''Extract any phrases about the value or price of\n",
    "                             the product, and output them as a list.\n",
    "                             ''',\n",
    "                             type='list')\n",
    "damages = ResponseSchema(name='damages',\n",
    "                             description='''Extract any phrases about damages that the customer\n",
    "                             found in the product, and output them as a list.\n",
    "                             ''',\n",
    "                             type='list')\n",
    "\n",
    "response_schemas = [\n",
    "    is_happy,\n",
    "    delivery_days,\n",
    "    price_value,\n",
    "    damages,\n",
    "]"
   ]
  },
  {
   "cell_type": "code",
   "execution_count": 130,
   "id": "8255d261",
   "metadata": {},
   "outputs": [],
   "source": [
    "output_parser = StructuredOutputParser.from_response_schemas(response_schemas)"
   ]
  },
  {
   "cell_type": "code",
   "execution_count": 131,
   "id": "94966eec",
   "metadata": {},
   "outputs": [
    {
     "name": "stdout",
     "output_type": "stream",
     "text": [
      "The output should be a markdown code snippet formatted in the following schema, including the leading and trailing \"```json\" and \"```\":\n",
      "\n",
      "```json\n",
      "{\n",
      "\t\"is_happy\": string  // Was the customer happy with their purchase?\n",
      "                          Answer Yes if they were. Answer No if they were not.\n",
      "                          Answer \"Unknown\" if the information is not found.\n",
      "                          \n",
      "\t\"delivery_days\": int  // How many days did it take the product to arrive?\n",
      "                               Answer -1 if the information is not found.\n",
      "                               \n",
      "\t\"price_value\": list  // Extract any phrases about the value or price of\n",
      "                             the product, and output them as a list.\n",
      "                             \n",
      "\t\"damages\": list  // Extract any phrases about damages that the customer\n",
      "                             found in the product, and output them as a list.\n",
      "                             \n",
      "}\n",
      "```\n"
     ]
    }
   ],
   "source": [
    "format_instructions = output_parser.get_format_instructions()\n",
    "print(format_instructions)"
   ]
  },
  {
   "cell_type": "code",
   "execution_count": 132,
   "id": "c03716e9",
   "metadata": {},
   "outputs": [],
   "source": [
    "prompt = '''\n",
    "For the following text, extract the following information: \\\n",
    "\n",
    "is_happy, delivery_days, price_value\n",
    "\n",
    "Format the output as JSON with the following keys:\n",
    "is_happy\n",
    "delivery_days\n",
    "price_value\n",
    "damages\n",
    "\n",
    "text: {text}\n",
    "\n",
    "{format_instructions}\n",
    "'''"
   ]
  },
  {
   "cell_type": "code",
   "execution_count": 133,
   "id": "dfe391bc",
   "metadata": {},
   "outputs": [
    {
     "name": "stdout",
     "output_type": "stream",
     "text": [
      "input_variables=['format_instructions', 'text'] output_parser=None partial_variables={} template='\\nFor the following text, extract the following information: \\nis_happy, delivery_days, price_value\\n\\nFormat the output as JSON with the following keys:\\nis_happy\\ndelivery_days\\nprice_value\\ndamages\\n\\ntext: {text}\\n\\n{format_instructions}\\n' template_format='f-string' validate_template=True\n"
     ]
    }
   ],
   "source": [
    "prompt_template = ChatPromptTemplate.from_template(prompt)\n",
    "print(prompt_template.messages[0].prompt)"
   ]
  },
  {
   "cell_type": "code",
   "execution_count": 134,
   "id": "427a1615",
   "metadata": {},
   "outputs": [],
   "source": [
    "chat_messages = prompt_template.format_messages(\n",
    "                        text=customer_review,\n",
    "                        format_instructions=format_instructions)"
   ]
  },
  {
   "cell_type": "code",
   "execution_count": 135,
   "id": "9e51f41d",
   "metadata": {},
   "outputs": [
    {
     "name": "stdout",
     "output_type": "stream",
     "text": [
      "\n",
      "For the following text, extract the following information: \n",
      "is_happy, delivery_days, price_value\n",
      "\n",
      "Format the output as JSON with the following keys:\n",
      "is_happy\n",
      "delivery_days\n",
      "price_value\n",
      "damages\n",
      "\n",
      "text: \n",
      "This leaf blower is pretty amazing.  It has four settings:candle blower, gentle breeze, windy city, and tornado. It arrived in two days, just in time for my wife's anniversary present. I think my wife liked it so much she was speechless. So far I've been the only one using it, and I've been using it every other morning to clear the leaves on our lawn. It's slightly more expensive than the other leaf blowers out there, but I think it's worth it for the extra features.\n",
      "\n",
      "\n",
      "The output should be a markdown code snippet formatted in the following schema, including the leading and trailing \"```json\" and \"```\":\n",
      "\n",
      "```json\n",
      "{\n",
      "\t\"is_happy\": string  // Was the customer happy with their purchase?\n",
      "                          Answer Yes if they were. Answer No if they were not.\n",
      "                          Answer \"Unknown\" if the information is not found.\n",
      "                          \n",
      "\t\"delivery_days\": int  // How many days did it take the product to arrive?\n",
      "                               Answer -1 if the information is not found.\n",
      "                               \n",
      "\t\"price_value\": list  // Extract any phrases about the value or price of\n",
      "                             the product, and output them as a list.\n",
      "                             \n",
      "\t\"damages\": list  // Extract any phrases about damages that the customer\n",
      "                             found in the product, and output them as a list.\n",
      "                             \n",
      "}\n",
      "```\n",
      "\n"
     ]
    }
   ],
   "source": [
    "print(chat_messages[0].content)"
   ]
  },
  {
   "cell_type": "code",
   "execution_count": 103,
   "id": "fe0585d8",
   "metadata": {},
   "outputs": [],
   "source": [
    "response = chat(chat_messages)"
   ]
  },
  {
   "cell_type": "code",
   "execution_count": 104,
   "id": "3ed61189",
   "metadata": {},
   "outputs": [
    {
     "name": "stdout",
     "output_type": "stream",
     "text": [
      "```json\n",
      "{\n",
      "\t\"is_happy\": \"Yes\",\n",
      "\t\"delivery_days\": 2,\n",
      "\t\"price_value\": [\"slightly more expensive than the other leaf blowers out there\", \"worth it for the extra features\"],\n",
      "\t\"damages\": []\n",
      "}\n",
      "```\n"
     ]
    }
   ],
   "source": [
    "print(response.content)"
   ]
  },
  {
   "cell_type": "code",
   "execution_count": 105,
   "id": "9f53c737",
   "metadata": {},
   "outputs": [],
   "source": [
    "output_dict = output_parser.parse(response.content)"
   ]
  },
  {
   "cell_type": "code",
   "execution_count": 106,
   "id": "563ad807",
   "metadata": {},
   "outputs": [
    {
     "name": "stdout",
     "output_type": "stream",
     "text": [
      "{'is_happy': 'Yes', 'delivery_days': 2, 'price_value': ['slightly more expensive than the other leaf blowers out there', 'worth it for the extra features'], 'damages': []}\n"
     ]
    }
   ],
   "source": [
    "print(output_dict)"
   ]
  },
  {
   "cell_type": "markdown",
   "id": "517d54b3",
   "metadata": {},
   "source": [
    "The output of the parser is a dictionary containing the various outputs that we have structured into dictionary keys. Each value is of the data type that we specified it to be in the format instructions."
   ]
  },
  {
   "cell_type": "code",
   "execution_count": 107,
   "id": "b0afa7e0",
   "metadata": {},
   "outputs": [
    {
     "data": {
      "text/plain": [
       "dict"
      ]
     },
     "execution_count": 107,
     "metadata": {},
     "output_type": "execute_result"
    }
   ],
   "source": [
    "type(output_dict)"
   ]
  },
  {
   "cell_type": "code",
   "execution_count": 108,
   "id": "88928270",
   "metadata": {},
   "outputs": [
    {
     "data": {
      "text/plain": [
       "'Yes'"
      ]
     },
     "execution_count": 108,
     "metadata": {},
     "output_type": "execute_result"
    }
   ],
   "source": [
    "output_dict.get('is_happy')"
   ]
  },
  {
   "cell_type": "code",
   "execution_count": 109,
   "id": "a75c7d03",
   "metadata": {},
   "outputs": [
    {
     "data": {
      "text/plain": [
       "2"
      ]
     },
     "execution_count": 109,
     "metadata": {},
     "output_type": "execute_result"
    }
   ],
   "source": [
    "output_dict.get('delivery_days')"
   ]
  },
  {
   "cell_type": "code",
   "execution_count": 110,
   "id": "82b4ab6d",
   "metadata": {},
   "outputs": [
    {
     "data": {
      "text/plain": [
       "['slightly more expensive than the other leaf blowers out there',\n",
       " 'worth it for the extra features']"
      ]
     },
     "execution_count": 110,
     "metadata": {},
     "output_type": "execute_result"
    }
   ],
   "source": [
    "output_dict.get('price_value')"
   ]
  },
  {
   "cell_type": "code",
   "execution_count": 111,
   "id": "da3e53a6",
   "metadata": {},
   "outputs": [
    {
     "data": {
      "text/plain": [
       "[]"
      ]
     },
     "execution_count": 111,
     "metadata": {},
     "output_type": "execute_result"
    }
   ],
   "source": [
    "output_dict.get('damages')"
   ]
  },
  {
   "cell_type": "code",
   "execution_count": null,
   "id": "ee1ffe03",
   "metadata": {},
   "outputs": [],
   "source": []
  }
 ],
 "metadata": {
  "kernelspec": {
   "display_name": "Python 3 (ipykernel)",
   "language": "python",
   "name": "python3"
  },
  "language_info": {
   "codemirror_mode": {
    "name": "ipython",
    "version": 3
   },
   "file_extension": ".py",
   "mimetype": "text/x-python",
   "name": "python",
   "nbconvert_exporter": "python",
   "pygments_lexer": "ipython3",
   "version": "3.10.10"
  }
 },
 "nbformat": 4,
 "nbformat_minor": 5
}
